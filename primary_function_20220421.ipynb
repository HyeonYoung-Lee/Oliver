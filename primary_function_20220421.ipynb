{
 "cells": [
  {
   "cell_type": "code",
   "execution_count": 3,
   "metadata": {},
   "outputs": [],
   "source": [
    "import numpy as np\n",
    "import matplotlib.pyplot as plt\n",
    "import sys"
   ]
  },
  {
   "cell_type": "markdown",
   "metadata": {},
   "source": [
    "Load whole data"
   ]
  },
  {
   "cell_type": "code",
   "execution_count": 4,
   "metadata": {},
   "outputs": [],
   "source": [
    "filename = '#1_3min_pad1_ms1000ms.txt'\n",
    "rawData = np.genfromtxt(filename)"
   ]
  },
  {
   "cell_type": "code",
   "execution_count": 5,
   "metadata": {},
   "outputs": [],
   "source": [
    "copy_data = rawData.copy()\n",
    "add = np.zeros((len(copy_data), 1), dtype='float')\n",
    "copy_data = np.append(copy_data, add, axis = 1)"
   ]
  },
  {
   "cell_type": "code",
   "execution_count": 6,
   "metadata": {},
   "outputs": [
    {
     "data": {
      "image/png": "[encoded data removed]",
      "text/plain": [
       "<Figure size 432x288 with 1 Axes>"
      ]
     },
     "metadata": {
      "needs_background": "light"
     },
     "output_type": "display_data"
    }
   ],
   "source": [
    "plt.plot(copy_data[0:len(copy_data),0], copy_data[0:len(copy_data), 1])\n",
    "plt.xscale(\"log\")\n",
    "plt.show()"
   ]
  },
  {
   "cell_type": "code",
   "execution_count": 7,
   "metadata": {},
   "outputs": [],
   "source": [
    "for i in range(len(copy_data)-1):\n",
    "    h = copy_data[1][0]\n",
    "    f_0 = copy_data[i][1]\n",
    "    f_1 = copy_data[i+1][1]\n",
    "    copy_data[i][2] = (f_1 - f_0)/h"
   ]
  },
  {
   "cell_type": "code",
   "execution_count": 8,
   "metadata": {},
   "outputs": [
    {
     "data": {
      "image/png": "[encoded data removed]",
      "text/plain": [
       "<Figure size 432x288 with 1 Axes>"
      ]
     },
     "metadata": {
      "needs_background": "light"
     },
     "output_type": "display_data"
    }
   ],
   "source": [
    "plt.plot(copy_data[0:len(copy_data),0], copy_data[0:len(copy_data), 2])\n",
    "plt.xscale(\"linear\")\n",
    "plt.show()"
   ]
  },
  {
   "cell_type": "code",
   "execution_count": 9,
   "metadata": {},
   "outputs": [
    {
     "name": "stdout",
     "output_type": "stream",
     "text": [
      "16000\n"
     ]
    }
   ],
   "source": [
    "for i in range(len(copy_data)-1, -1, -1):\n",
    "    if copy_data[i][2] < -0.2:\n",
    "        x_second_idx = i\n",
    "        break\n",
    "\n",
    "print(x_second_idx)"
   ]
  },
  {
   "cell_type": "code",
   "execution_count": 10,
   "metadata": {},
   "outputs": [
    {
     "name": "stdout",
     "output_type": "stream",
     "text": [
      "1100\n",
      "11000.0\n",
      "5000\n"
     ]
    }
   ],
   "source": [
    "interval = input(\"input interval\")\n",
    "pulse_width = input(\"input pulse width\")\n",
    "\n",
    "subtract = int(interval) + int(pulse_width)  #  * 1/(copy_data[1][0] 의 반올림*1000(ms))\n",
    "subtract_round = subtract / (round(h, 7)*1000)\n",
    "x_first_idx = int(x_second_idx - subtract_round)\n",
    "\n",
    "print(subtract)\n",
    "print(subtract_round)\n",
    "print(x_first_idx)"
   ]
  },
  {
   "cell_type": "code",
   "execution_count": 11,
   "metadata": {},
   "outputs": [
    {
     "name": "stdout",
     "output_type": "stream",
     "text": [
      "1000      0.500005      1.600016      1.0919341753261858\n"
     ]
    }
   ],
   "source": [
    "x_first_time = copy_data[x_first_idx][0]\n",
    "x_second_time = copy_data[x_second_idx][0]\n",
    "x_first_value = copy_data[x_first_idx][1]\n",
    "x_second_value = copy_data[x_second_idx][1]\n",
    "\n",
    "ppf = x_second_value / x_first_value\n",
    "\n",
    "print(interval,\"    \",x_first_time,\"    \",x_second_time,\"    \",ppf)"
   ]
  }
 ],
 "metadata": {
  "interpreter": {
   "hash": "563069f6a733056c78127e36d2a7d7ab9d73467c696d247032d4b627479ed7bf"
  },
  "kernelspec": {
   "display_name": "Python 3.10.4 64-bit",
   "language": "python",
   "name": "python3"
  },
  "language_info": {
   "codemirror_mode": {
    "name": "ipython",
    "version": 3
   },
   "file_extension": ".py",
   "mimetype": "text/x-python",
   "name": "python",
   "nbconvert_exporter": "python",
   "pygments_lexer": "ipython3",
   "version": "3.10.4"
  },
  "orig_nbformat": 4
 },
 "nbformat": 4,
 "nbformat_minor": 2
}
