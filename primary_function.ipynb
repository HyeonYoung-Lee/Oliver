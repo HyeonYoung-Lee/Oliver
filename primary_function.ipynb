{
 "cells": [
  {
   "cell_type": "code",
   "execution_count": 12,
   "metadata": {},
   "outputs": [],
   "source": [
    "import numpy as np\n",
    "import matplotlib.pyplot as plt\n",
    "import sys"
   ]
  },
  {
   "cell_type": "markdown",
   "metadata": {},
   "source": [
    "Load whole data"
   ]
  },
  {
   "cell_type": "code",
   "execution_count": 13,
   "metadata": {},
   "outputs": [],
   "source": [
    "filename = '#1_pad3_pw200_ams100ms.txt'\n",
    "rawData = np.genfromtxt(filename)"
   ]
  },
  {
   "cell_type": "code",
   "execution_count": 14,
   "metadata": {},
   "outputs": [],
   "source": [
    "copy_data = rawData.copy()\n",
    "add = np.zeros((len(copy_data), 1), dtype='float')\n",
    "copy_data = np.append(copy_data, add, axis = 1)"
   ]
  },
  {
   "cell_type": "code",
   "execution_count": 15,
   "metadata": {},
   "outputs": [
    {
     "data": {
      "image/png": "[encoded data removed]",
      "text/plain": [
       "<Figure size 432x288 with 1 Axes>"
      ]
     },
     "metadata": {
      "needs_background": "light"
     },
     "output_type": "display_data"
    }
   ],
   "source": [
    "plt.plot(copy_data[0:len(copy_data),0], copy_data[0:len(copy_data), 1])\n",
    "plt.xscale(\"log\")\n",
    "plt.show()"
   ]
  },
  {
   "cell_type": "code",
   "execution_count": 16,
   "metadata": {},
   "outputs": [],
   "source": [
    "for i in range(len(copy_data)-1):\n",
    "    h = 0.000100001\n",
    "    f_0 = copy_data[i][1]\n",
    "    f_1 = copy_data[i+1][1]\n",
    "    copy_data[i][2] = (f_1 - f_0)/h"
   ]
  },
  {
   "cell_type": "code",
   "execution_count": 17,
   "metadata": {},
   "outputs": [
    {
     "data": {
      "image/png": "[encoded data removed]",
      "text/plain": [
       "<Figure size 432x288 with 1 Axes>"
      ]
     },
     "metadata": {
      "needs_background": "light"
     },
     "output_type": "display_data"
    }
   ],
   "source": [
    "plt.plot(copy_data[0:len(copy_data),0], copy_data[0:len(copy_data), 2])\n",
    "plt.xscale(\"log\")\n",
    "plt.show()"
   ]
  },
  {
   "cell_type": "code",
   "execution_count": 26,
   "metadata": {},
   "outputs": [
    {
     "name": "stdout",
     "output_type": "stream",
     "text": [
      "[[ 1.00000100e+00  7.22968129e-05 -7.26888844e-01]\n",
      " [ 7.00000700e-01  6.20502550e-05 -6.24105185e-01]\n",
      " [ 9.39000939e-01  6.87228033e-05 -1.28280137e-02]\n",
      " [ 6.35000635e-01  5.67945463e-05 -9.60505495e-03]\n",
      " [ 5.72000572e-01  4.81786303e-05 -9.25404046e-03]]\n"
     ]
    }
   ],
   "source": [
    "min_array = copy_data.copy()\n",
    "min_array = min_array[min_array[:, 2].argsort()]\n",
    "min_array = min_array[:5]\n",
    "\n",
    "time_temp = 0.0000000\n",
    "min_rate_of_change = 0.0\n",
    "for i in range(len(min_array)):\n",
    "    if min_array[i][2] < -0.2 and min_array[i][0] > time_temp:\n",
    "        time_temp = min_array[i][0]\n",
    "        min_rate_of_change = min_array[i][2]\n",
    "\n",
    "min_array_idx = np.where((copy_data[:, 2] == min_rate_of_change))\n",
    "x_second_idx = min_array_idx[0][0]\n",
    "x_second = float(x_second_idx)*(1/1000) + float(x_second_idx)*(1/1000000000)\n",
    "x_second_value = copy_data[x_second_idx][1]\n",
    "\n",
    "print(min_array)"
   ]
  },
  {
   "cell_type": "code",
   "execution_count": 19,
   "metadata": {},
   "outputs": [
    {
     "name": "stdout",
     "output_type": "stream",
     "text": [
      "(array([1000], dtype=int64),)\n"
     ]
    }
   ],
   "source": [
    "print(np.where(copy_data[:, 2] == min_rate_of_change))"
   ]
  },
  {
   "cell_type": "code",
   "execution_count": 23,
   "metadata": {},
   "outputs": [
    {
     "name": "stdout",
     "output_type": "stream",
     "text": [
      "0.3000003\n"
     ]
    }
   ],
   "source": [
    "interval = input(\"input interval\")\n",
    "pulse_width = input(\"input pulse width\")\n",
    "interval = float(interval) * (1/1000) + float(interval) * (1/1000000000)\n",
    "pulse_width = float(pulse_width) * (1/1000)  + float(pulse_width) * (1/1000000000)\n",
    "\n",
    "subtract = interval + pulse_width\n",
    "x_first = x_second - subtract\n",
    "x_fisrt_idx = np.where((copy_data[:, 0]) == round(x_first, 10))\n",
    "\n",
    "print(subtract)"
   ]
  },
  {
   "cell_type": "code",
   "execution_count": 21,
   "metadata": {},
   "outputs": [
    {
     "name": "stdout",
     "output_type": "stream",
     "text": [
      "fisrt time: 0.7000006999999999\n",
      "first value: 6.2050255e-05\n",
      "rate of change: -0.6241051852481475\n",
      "--------------------------------------\n",
      "seconde time: 1.000001\n",
      "second value: 7.22968129e-05\n",
      "rate of change: -0.726888844411556\n"
     ]
    }
   ],
   "source": [
    "x_fisrt_idx = x_fisrt_idx[0][0]\n",
    "x_first_value = copy_data[x_fisrt_idx][1]\n",
    "first_rate_of_change = copy_data[x_fisrt_idx][2]\n",
    "\n",
    "print(\"fisrt time:\", x_first)\n",
    "print(\"first value:\", x_first_value)\n",
    "print(\"rate of change:\", first_rate_of_change)\n",
    "print(\"--------------------------------------\")\n",
    "print(\"seconde time:\", x_second)\n",
    "print(\"second value:\", x_second_value)\n",
    "print(\"rate of change:\", min_rate_of_change)"
   ]
  },
  {
   "cell_type": "code",
   "execution_count": 22,
   "metadata": {},
   "outputs": [
    {
     "name": "stdout",
     "output_type": "stream",
     "text": [
      "#1_pad3_pw200_ams100ms.txt\n",
      "0.858270959825395\n"
     ]
    }
   ],
   "source": [
    "get_ratio = x_first_value / x_second_value\n",
    "print(filename)\n",
    "print(get_ratio)"
   ]
  },
  {
   "cell_type": "code",
   "execution_count": null,
   "metadata": {},
   "outputs": [],
   "source": []
  }
 ],
 "metadata": {
  "interpreter": {
   "hash": "563069f6a733056c78127e36d2a7d7ab9d73467c696d247032d4b627479ed7bf"
  },
  "kernelspec": {
   "display_name": "Python 3.10.4 64-bit",
   "language": "python",
   "name": "python3"
  },
  "language_info": {
   "codemirror_mode": {
    "name": "ipython",
    "version": 3
   },
   "file_extension": ".py",
   "mimetype": "text/x-python",
   "name": "python",
   "nbconvert_exporter": "python",
   "pygments_lexer": "ipython3",
   "version": "3.10.4"
  },
  "orig_nbformat": 4
 },
 "nbformat": 4,
 "nbformat_minor": 2
}
